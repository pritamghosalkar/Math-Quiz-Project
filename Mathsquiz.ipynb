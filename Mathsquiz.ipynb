{
 "cells": [
  {
   "cell_type": "code",
   "execution_count": 1,
   "metadata": {},
   "outputs": [],
   "source": [
    "def calculate(lhs, rhs, op):\n",
    "     if (op == '+'):\n",
    "        return lhs + rhs\n",
    "     if (op == '-'):\n",
    "        return lhs - rhs\n",
    "     if (op == '*'):\n",
    "        return lhs * rhs\n",
    "     if (op == '/'):\n",
    "        return lhs / rhs\n",
    "     if (op == '^'):\n",
    "        return lhs**rhs\n",
    "     raise Exception(\"Unkown Operator\")\n",
    "        "
   ]
  },
  {
   "cell_type": "code",
   "execution_count": 5,
   "metadata": {},
   "outputs": [],
   "source": [
    "import random\n",
    "def genrate():\n",
    "    ops = \"+-*/^\"\n",
    "    op = random.choice(ops)\n",
    "    lhs = random.randint(0,10)\n",
    "    rhs = random.randint(0,10)\n",
    "    while (rhs == 0 and op == '/'):\n",
    "        rhs = random.randint(0,10)\n",
    "    return lhs, rhs, op"
   ]
  },
  {
   "cell_type": "code",
   "execution_count": 3,
   "metadata": {},
   "outputs": [],
   "source": [
    "def isAccurateEnough(givenAns, correctAns, torrence = 0.01):\n",
    "    diff = abs(float(givenAns)-float(correctAns))\n",
    "    return diff <= torrence"
   ]
  },
  {
   "cell_type": "code",
   "execution_count": 4,
   "metadata": {},
   "outputs": [
    {
     "name": "stdout",
     "output_type": "stream",
     "text": [
      "How many Question you want?3\n",
      "2 ^ 7 =3\n",
      "Wrong. Corrct Anwser = 128\n",
      "3 ^ 3 =27\n",
      "Correct\n",
      "1 / 10 =0.1\n",
      "Correct\n",
      "You got 2 correct out of 3\n"
     ]
    }
   ],
   "source": [
    "totalQue = input(\"How many Question you want?\")\n",
    "count = 0\n",
    "for i in range(int(totalQue)):\n",
    "    que = genrate()\n",
    "    correctAns = calculate(que[0],que[1],que[2])\n",
    "    playerAns = input(\"{0} {2} {1} =\".format(que[0],que[1],que[2]))\n",
    "    if (isAccurateEnough(correctAns, playerAns)):\n",
    "        print(\"Correct\")\n",
    "        count += 1\n",
    "    else:\n",
    "        print(\"Wrong. Corrct Anwser = \" + str(correctAns))\n",
    "\n",
    "print(\"You got {0} correct out of {1}\".format(count,totalQue))"
   ]
  },
  {
   "cell_type": "code",
   "execution_count": null,
   "metadata": {},
   "outputs": [],
   "source": []
  }
 ],
 "metadata": {
  "kernelspec": {
   "display_name": "Python 3",
   "language": "python",
   "name": "python3"
  },
  "language_info": {
   "codemirror_mode": {
    "name": "ipython",
    "version": 3
   },
   "file_extension": ".py",
   "mimetype": "text/x-python",
   "name": "python",
   "nbconvert_exporter": "python",
   "pygments_lexer": "ipython3",
   "version": "3.7.3"
  }
 },
 "nbformat": 4,
 "nbformat_minor": 2
}
